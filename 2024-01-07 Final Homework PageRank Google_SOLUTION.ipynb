{
 "cells": [
  {
   "attachments": {},
   "cell_type": "markdown",
   "id": "745b33aa-5324-4910-8db6-6e0410329e74",
   "metadata": {},
   "source": [
    "# Final Homework\n",
    "\n",
    "## Two weeks delay $\\implies$ to send before Sunday, the 21st of January... 2024\n",
    "\n",
    "## PageRank Algorithm\n",
    "\n",
    "**PageRank** was the first ``Google'' algorithm ; *id est* a search engine to efficiently index the web.\n",
    "\n",
    "The algorithm was proposed by Page & Brin in the paper : \"[The anatomy of a large-scale hypertextual Web search engine](https://snap.stanford.edu/class/cs224w-readings/Brin98Anatomy.pdf)\" (1998).\n",
    "\n",
    "The idea is very simple. \n",
    "The web can be seen as a ***directed*** graph $G(V,E)$.\n",
    "\n",
    "The vertices $v \\in V$ being the web-pages. There is an (directed) edge $e = (v , v'), \\ v,v' \\in V$ if the page $v$ links to ($=$ there is a web-link on the page) $v'$.\n",
    "\n",
    "The PageRank algorithm is based on an ideal random web-surfer who, when reaching a page, goes to the next page by clicking on a link. The surfer has equal probability of clicking any link on the page. \n",
    "In addition, the surfer may occasionally choose to type in a random URL instead of following the links on a page. \n",
    "\n",
    "This random walk produces an **Centrality Indice** function $f(v)$ on the web-pages ($=$ the nodes $v \\in V$) used to rank the results of a web-search.\n",
    "\n",
    "This indice is given by :\n",
    "\n",
    "$$f(v) = \\text{The probability $\\pi_v$ for the web-surfer to be on the page $v$.} $$\n",
    "\n",
    "\n",
    "(The results of a Google-search were sorted from the highest value of $f(v)$ to the lowest.)\n",
    "\n",
    "\n",
    "### 1/ Preliminaries\n",
    "\n",
    "Let $G$ be the following directed graph :\n"
   ]
  },
  {
   "cell_type": "code",
   "execution_count": 1,
   "id": "4a8aa8d4-2e2b-45b6-a30c-a0e22e850415",
   "metadata": {},
   "outputs": [
    {
     "data": {
      "image/png": "[encoded data removed]",
      "text/plain": [
       "<Figure size 640x480 with 1 Axes>"
      ]
     },
     "metadata": {},
     "output_type": "display_data"
    }
   ],
   "source": [
    "import numpy as np\n",
    "import networkx as nx\n",
    "\n",
    "\n",
    "\n",
    "G = nx.DiGraph()\n",
    "\n",
    "G.add_edges_from([('A','B'), ('D','E'), ('A','C'), ('A', 'A'), ('A', 'E'), ('E', 'D'), ('B','C'), ('C', 'C'), ('E', 'B'), ('C', 'E'), ('C', 'A')])\n",
    "\n",
    "nx.draw_networkx(G, with_labels=True)"
   ]
  },
  {
   "cell_type": "markdown",
   "id": "61f82eb6-ad78-446e-9c11-d4fe75658b73",
   "metadata": {},
   "source": [
    "\n",
    "<u>***Question***</u> : Write (in Python) the adjacency matrix $A$ of this graph $G$ ? Is $A$ symmetric ? "
   ]
  },
  {
   "cell_type": "markdown",
   "id": "a0425042-6ff5-45e9-ab32-4cec4ad2e653",
   "metadata": {},
   "source": [
    "<u>***Your answer***</u> : \n",
    "$A$ has no reason to be symmetric because the graph $G$ is directed."
   ]
  },
  {
   "cell_type": "code",
   "execution_count": 2,
   "id": "7a268950-6648-4d8b-84ae-4e55f057127e",
   "metadata": {},
   "outputs": [
    {
     "data": {
      "text/plain": [
       "array([[1., 1., 1., 0., 1.],\n",
       "       [0., 0., 1., 0., 0.],\n",
       "       [1., 0., 1., 0., 1.],\n",
       "       [0., 0., 0., 0., 1.],\n",
       "       [0., 1., 0., 1., 0.]])"
      ]
     },
     "execution_count": 2,
     "metadata": {},
     "output_type": "execute_result"
    }
   ],
   "source": [
    "### YOUR PYTHON ANSWER\n",
    "\n",
    "n = G.number_of_nodes()\n",
    "\n",
    "A = np.array([[1., 1., 1., 0., 1.], [0., 0., 1., 0., 0.], [1., 0., 1., 0., 1.], [0., 0., 0., 0., 1.], [0., 1., 0., 1., 0.]])\n",
    "\n",
    "A"
   ]
  },
  {
   "cell_type": "markdown",
   "id": "97ffc292-d350-43a9-a8c8-968c8634b385",
   "metadata": {},
   "source": [
    "### 2/ First simple random walk\n",
    "\n",
    "Let us simply walk randomly (and uniformly according to the different links on a web-page).\n",
    "\n",
    "That is, at each step, if the walker is in node $v$, he chooses (uniformly) a node $v'$ such that $A_{v, v'} = 1$ and jumps from $v$ to $v'$.\n",
    "\n",
    "To compute the transition matrix $P$ of this random walk, we need the adjacency matrix $A$ and the (diagonal matrix, or vector... as you want)  $D$ of degrees...\n",
    "\n",
    "<u>***Question***</u> : ... but is $D$ the out-degrees matrix or the in-degrees one ?.. Compute $D$ (in python). What is the condition on $D$ in order to compute $P$ ? Is it satisfied ? Finally, compute $P$."
   ]
  },
  {
   "cell_type": "markdown",
   "id": "55f23f14-29ad-4ac7-861c-37703ee4afed",
   "metadata": {},
   "source": [
    "<u>***Your answer***</u> : $D$ is the out-degree matrix (we look at the out-links, not the in-ones). So $D_{i,i}$ is the sum over the $i$th row :\n",
    "$$ D_{i,i} = \\sum_j A_{i,j}.$$\n",
    "\n",
    "\n",
    "To random walk, we must be unblocked on a page (there is at least one link) :\n",
    "$$\\forall i, \\ \\ \\  D_{i,i} > 0 $$\n",
    "\n",
    "Then :\n",
    "\n",
    "$$ P = D^{-1} A .$$\n"
   ]
  },
  {
   "cell_type": "code",
   "execution_count": 3,
   "id": "93999c7c-2fec-4d92-b48a-7c2117a31893",
   "metadata": {},
   "outputs": [
    {
     "data": {
      "text/plain": [
       "array([[0.25      , 0.25      , 0.25      , 0.        , 0.25      ],\n",
       "       [0.        , 0.        , 1.        , 0.        , 0.        ],\n",
       "       [0.33333333, 0.        , 0.33333333, 0.        , 0.33333333],\n",
       "       [0.        , 0.        , 0.        , 0.        , 1.        ],\n",
       "       [0.        , 0.5       , 0.        , 0.5       , 0.        ]])"
      ]
     },
     "execution_count": 3,
     "metadata": {},
     "output_type": "execute_result"
    }
   ],
   "source": [
    "### YOUR PYTHON ANSWER\n",
    "\n",
    "ones = np.ones((n,))\n",
    "\n",
    "D = np.diag(A @ ones)\n",
    "\n",
    "P = np.linalg.inv(D) @ A # unoptimized at all : inverse is expensive... we should do : inverting element-wisen the vector  = np.diag(np.invert( A @ ones))\n",
    "\n",
    "P"
   ]
  },
  {
   "cell_type": "markdown",
   "id": "824b445f-9348-454d-98d4-683ca49f8c1e",
   "metadata": {},
   "source": [
    "### 3/ The ergodic theorem\n",
    "\n",
    "We now want to apply the ergodic theorem. \n",
    "\n",
    "<u>***Question***</u> : Recall the hypothesis. Why do they apply ? What can you say (existence, uniqueness, ...) about an invariant measure $\\pi$ ?"
   ]
  },
  {
   "cell_type": "markdown",
   "id": "0246373a-dc6f-4148-bf4d-bae7e7c2f713",
   "metadata": {},
   "source": [
    "<u>***Your answer***</u> : The Markov chain is finite ; it is thus sufficient to show that it is **irreducible**. That is, for each $v,v'$, there is a path from $v$ to $v'$. That is the case ! And that the Markov chain is **a-periodic**. The presence of a loop is a sufficient condition for that.\n",
    "\n",
    "Also, there is an **unique** probability vector $\\pi$ invariant by $P$. That is :\n",
    "$$ \\pi P = \\pi .$$"
   ]
  },
  {
   "cell_type": "markdown",
   "id": "3d4f025a-e8f4-4b77-b687-30ae7b7cabef",
   "metadata": {},
   "source": [
    "<u>***Question***</u> : Compute (with linear algebra) $\\pi$.\n",
    "\n",
    "**TIPS** : to avoid errors on float approximation, use `np.round(λ, 5)`instead of `λ`...\n",
    "Because the ergodic theorem ensures that $\\pi$ is real and not complex, use the instruction `π = np.real(π)`."
   ]
  },
  {
   "cell_type": "code",
   "execution_count": 4,
   "id": "054c512d-4652-44cd-af0f-ddc8c8834a59",
   "metadata": {},
   "outputs": [
    {
     "data": {
      "text/plain": [
       "array([0.13333333, 0.16666667, 0.3       , 0.13333333, 0.26666667])"
      ]
     },
     "execution_count": 4,
     "metadata": {},
     "output_type": "execute_result"
    }
   ],
   "source": [
    "#### YOUR PYTHON ANSWER\n",
    "\n",
    "# π is the (unique) eigen-vector (l1-normalised) associated to the eigen-value 1 of Transpose(P)\n",
    "\n",
    "eigenValues, eigenVectors = np.linalg.eig(P.T)\n",
    "\n",
    "for i,λ in enumerate(list(eigenValues)) :\n",
    "    if np.round(λ, 5) == 1 :\n",
    "        π = eigenVectors[:,i] # the eigen-vector associatied to λ = 1\n",
    "\n",
    "\n",
    "π = np.real(π)\n",
    "π = π/np.sum(π) # We l1-normalise\n",
    "\n",
    "π"
   ]
  },
  {
   "cell_type": "markdown",
   "id": "8b3053c5-d009-46b0-93aa-43edaa9514cd",
   "metadata": {},
   "source": [
    "Suppose that, at one step, the random walker is on the node $B$, denote $T$ the random variable of the time to return in $B$.\n",
    "\n",
    "<u>***Question***</u> : What is the value of \n",
    "$ \\mathbb E [T] $ ?"
   ]
  },
  {
   "cell_type": "code",
   "execution_count": 5,
   "id": "7307290f-08a2-419b-a745-88a5cd85ec39",
   "metadata": {},
   "outputs": [
    {
     "name": "stdout",
     "output_type": "stream",
     "text": [
      "The expected value of T is  5.999999999999999\n"
     ]
    }
   ],
   "source": [
    "### YOUR PYTHON ANSWER\n",
    "\n",
    "# By the ergodic theorem E[T] = 1/(π_B)\n",
    "\n",
    "E = 1/π[1]\n",
    "\n",
    "print('The expected value of T is ', E)"
   ]
  },
  {
   "cell_type": "markdown",
   "id": "08405e5e-21d8-4af9-92fa-3670c7315727",
   "metadata": {},
   "source": [
    "### 4/ The PageRank algorithm\n",
    "\n",
    "The random walker of the PageRank algorithm has a behaviour a little bit different -- and perhaps more realistic.\n",
    "\n",
    "Let $\\alpha \\in (0 ; 1)$ (typically $\\alpha = 0.85$).\n",
    "\n",
    "\n",
    "At each step, the random walker :\n",
    "\n",
    "--- With probability $\\alpha$ do the same as previously : he clicks randomly on a link ofthe page he is on.\n",
    "\n",
    "--- With probability $(1 - \\alpha)$, he leaves his current page and type a new site in the URL. That is : he jumps from $v$ uniformly to a new page $v' \\in V$ (with probability $\\frac1n$).\n",
    "\n",
    "\n",
    "<u>***Question***</u> : Write the new formula of the transition matrix $P$. Does the ergodic theorem always apply ? Then compute $P$ in Python.\n",
    "\n"
   ]
  },
  {
   "cell_type": "markdown",
   "id": "63529482-e5d8-433a-af40-1b5f87b7ce02",
   "metadata": {},
   "source": [
    "<u>***Your answer***</u> : \n",
    "\n",
    "Now we have :\n",
    "\n",
    "$$ P = \\alpha D^{-1} A + (1- \\alpha) \\frac1n \\mathbb 1_ n $$\n",
    "\n",
    "Where $\\mathbb 1_n$ is the $n \\times n$ matrix with $1$ everywhere.\n",
    "\n",
    "The graph is now complete ; obviously, the ergodic theorem applies."
   ]
  },
  {
   "cell_type": "code",
   "execution_count": 6,
   "id": "341d6432-a1eb-4361-8107-feea7eb76e64",
   "metadata": {},
   "outputs": [
    {
     "data": {
      "text/plain": [
       "array([[0.2425    , 0.2425    , 0.2425    , 0.03      , 0.2425    ],\n",
       "       [0.03      , 0.03      , 0.88      , 0.03      , 0.03      ],\n",
       "       [0.31333333, 0.03      , 0.31333333, 0.03      , 0.31333333],\n",
       "       [0.03      , 0.03      , 0.03      , 0.03      , 0.88      ],\n",
       "       [0.03      , 0.455     , 0.03      , 0.455     , 0.03      ]])"
      ]
     },
     "execution_count": 6,
     "metadata": {},
     "output_type": "execute_result"
    }
   ],
   "source": [
    "### YOUR PYTHON ANSWER\n",
    "\n",
    "α = 0.85\n",
    "\n",
    "P = α * (np.linalg.inv(D) @ A) + (1-α)/n * np.ones((n,n))\n",
    "\n",
    "P"
   ]
  },
  {
   "cell_type": "markdown",
   "id": "0e45a689-ab8a-49e8-b6d9-38e28a9ea33b",
   "metadata": {},
   "source": [
    "### 5/ The efficient way to compute $\\pi$, the invariant probability vector\n",
    "\n",
    "Even at the time (1998) of the article presenting PageRank, the web was already made of tens of millions, making impossible the diagonalisation of the matrix $P$. \n",
    "\n",
    "(In fact, even the matricial $n \\times n$ representation of the web is too large ; we should represent it by adjacency neigbouring-list or sparse matrices... Whatever... let us continue with the matrices, simpler to manipulate !..)\n",
    "\n",
    "<u>***Question***</u> : Using the ergodic theorem, propose an algorithm to approximate $\\pi$.\n",
    "\n",
    "Code it in Python !"
   ]
  },
  {
   "cell_type": "markdown",
   "id": "0ada544e-1292-43e9-a5c9-c4421a50066a",
   "metadata": {},
   "source": [
    "<u>***Your answer***</u> : If we initialise with whatever probability vector $\\mu$, by ergodic theorem we have that : $$ \\mu P^k \\to \\pi \\ \\ \\ \\ \\text{ when $k \\to \\infty$}$$\n",
    "\n",
    "Where $\\pi$ is the (unique) probability vector invariant by $P$."
   ]
  },
  {
   "cell_type": "code",
   "execution_count": 7,
   "id": "f56d351c-513e-4f95-8f57-487e0dbdb71f",
   "metadata": {},
   "outputs": [
    {
     "data": {
      "text/plain": [
       "array([[0.14111496, 0.1708462 , 0.28633423, 0.14085927, 0.26084534]])"
      ]
     },
     "execution_count": 7,
     "metadata": {},
     "output_type": "execute_result"
    }
   ],
   "source": [
    "k = 500 # number of iterations \n",
    "\n",
    "μ = np.ones((1,n))/n\n",
    "π = μ @ P\n",
    "for _ in range(k) :\n",
    "    π = π @ P\n",
    "\n",
    "π"
   ]
  },
  {
   "cell_type": "markdown",
   "id": "5bf22017-4789-46aa-9fec-9bc6d02b458a",
   "metadata": {},
   "source": [
    "<u>***Question***</u> : What would be the first suggestion of Google. (There was a time when there was a 'lucky me' button.)"
   ]
  },
  {
   "cell_type": "markdown",
   "id": "2b75f81f-2660-41a5-8312-8ad1fee2146b",
   "metadata": {},
   "source": [
    "<u>***Your answer***</u> : \n",
    "$$ C = argmax \\ \\ \\pi .$$"
   ]
  },
  {
   "cell_type": "markdown",
   "id": "371f448d-965e-4c01-bf3c-e932bacf2906",
   "metadata": {},
   "source": [
    "### This is \"*The end*\" of Statistical Analysis of Networks 😢 ... Have a nice continuation !.."
   ]
  }
 ],
 "metadata": {
  "kernelspec": {
   "display_name": "Python 3 (ipykernel)",
   "language": "python",
   "name": "python3"
  },
  "language_info": {
   "codemirror_mode": {
    "name": "ipython",
    "version": 3
   },
   "file_extension": ".py",
   "mimetype": "text/x-python",
   "name": "python",
   "nbconvert_exporter": "python",
   "pygments_lexer": "ipython3",
   "version": "3.11.5"
  }
 },
 "nbformat": 4,
 "nbformat_minor": 5
}
